{
 "cells": [
  {
   "cell_type": "code",
   "execution_count": 2,
   "id": "36b1a2a5-71e9-4d53-8c82-af292d60aeb2",
   "metadata": {},
   "outputs": [
    {
     "name": "stdout",
     "output_type": "stream",
     "text": [
      "Collecting together\n",
      "  Downloading together-1.5.5-py3-none-any.whl.metadata (14 kB)\n",
      "Requirement already satisfied: aiohttp<4.0.0,>=3.9.3 in c:\\users\\pc\\anaconda3\\lib\\site-packages (from together) (3.10.5)\n",
      "Requirement already satisfied: click<9.0.0,>=8.1.7 in c:\\users\\pc\\anaconda3\\lib\\site-packages (from together) (8.1.7)\n",
      "Collecting eval-type-backport<0.3.0,>=0.1.3 (from together)\n",
      "  Downloading eval_type_backport-0.2.2-py3-none-any.whl.metadata (2.2 kB)\n",
      "Requirement already satisfied: filelock<4.0.0,>=3.13.1 in c:\\users\\pc\\anaconda3\\lib\\site-packages (from together) (3.13.1)\n",
      "Requirement already satisfied: numpy>=1.26.0 in c:\\users\\pc\\anaconda3\\lib\\site-packages (from together) (1.26.4)\n",
      "Collecting pillow<12.0.0,>=11.1.0 (from together)\n",
      "  Downloading pillow-11.2.1-cp312-cp312-win_amd64.whl.metadata (9.1 kB)\n",
      "Requirement already satisfied: pyarrow>=10.0.1 in c:\\users\\pc\\anaconda3\\lib\\site-packages (from together) (16.1.0)\n",
      "Requirement already satisfied: pydantic<3.0.0,>=2.6.3 in c:\\users\\pc\\anaconda3\\lib\\site-packages (from together) (2.8.2)\n",
      "Requirement already satisfied: requests<3.0.0,>=2.31.0 in c:\\users\\pc\\anaconda3\\lib\\site-packages (from together) (2.32.3)\n",
      "Collecting rich<14.0.0,>=13.8.1 (from together)\n",
      "  Downloading rich-13.9.4-py3-none-any.whl.metadata (18 kB)\n",
      "Requirement already satisfied: tabulate<0.10.0,>=0.9.0 in c:\\users\\pc\\anaconda3\\lib\\site-packages (from together) (0.9.0)\n",
      "Requirement already satisfied: tqdm<5.0.0,>=4.66.2 in c:\\users\\pc\\anaconda3\\lib\\site-packages (from together) (4.66.5)\n",
      "Requirement already satisfied: typer<0.16,>=0.9 in c:\\users\\pc\\anaconda3\\lib\\site-packages (from together) (0.9.0)\n",
      "Requirement already satisfied: aiohappyeyeballs>=2.3.0 in c:\\users\\pc\\anaconda3\\lib\\site-packages (from aiohttp<4.0.0,>=3.9.3->together) (2.4.0)\n",
      "Requirement already satisfied: aiosignal>=1.1.2 in c:\\users\\pc\\anaconda3\\lib\\site-packages (from aiohttp<4.0.0,>=3.9.3->together) (1.2.0)\n",
      "Requirement already satisfied: attrs>=17.3.0 in c:\\users\\pc\\anaconda3\\lib\\site-packages (from aiohttp<4.0.0,>=3.9.3->together) (23.1.0)\n",
      "Requirement already satisfied: frozenlist>=1.1.1 in c:\\users\\pc\\anaconda3\\lib\\site-packages (from aiohttp<4.0.0,>=3.9.3->together) (1.4.0)\n",
      "Requirement already satisfied: multidict<7.0,>=4.5 in c:\\users\\pc\\anaconda3\\lib\\site-packages (from aiohttp<4.0.0,>=3.9.3->together) (6.0.4)\n",
      "Requirement already satisfied: yarl<2.0,>=1.0 in c:\\users\\pc\\anaconda3\\lib\\site-packages (from aiohttp<4.0.0,>=3.9.3->together) (1.11.0)\n",
      "Requirement already satisfied: colorama in c:\\users\\pc\\anaconda3\\lib\\site-packages (from click<9.0.0,>=8.1.7->together) (0.4.6)\n",
      "Requirement already satisfied: annotated-types>=0.4.0 in c:\\users\\pc\\anaconda3\\lib\\site-packages (from pydantic<3.0.0,>=2.6.3->together) (0.6.0)\n",
      "Requirement already satisfied: pydantic-core==2.20.1 in c:\\users\\pc\\anaconda3\\lib\\site-packages (from pydantic<3.0.0,>=2.6.3->together) (2.20.1)\n",
      "Requirement already satisfied: typing-extensions>=4.6.1 in c:\\users\\pc\\anaconda3\\lib\\site-packages (from pydantic<3.0.0,>=2.6.3->together) (4.11.0)\n",
      "Requirement already satisfied: charset-normalizer<4,>=2 in c:\\users\\pc\\anaconda3\\lib\\site-packages (from requests<3.0.0,>=2.31.0->together) (3.3.2)\n",
      "Requirement already satisfied: idna<4,>=2.5 in c:\\users\\pc\\anaconda3\\lib\\site-packages (from requests<3.0.0,>=2.31.0->together) (3.7)\n",
      "Requirement already satisfied: urllib3<3,>=1.21.1 in c:\\users\\pc\\anaconda3\\lib\\site-packages (from requests<3.0.0,>=2.31.0->together) (2.2.3)\n",
      "Requirement already satisfied: certifi>=2017.4.17 in c:\\users\\pc\\anaconda3\\lib\\site-packages (from requests<3.0.0,>=2.31.0->together) (2025.1.31)\n",
      "Requirement already satisfied: markdown-it-py>=2.2.0 in c:\\users\\pc\\anaconda3\\lib\\site-packages (from rich<14.0.0,>=13.8.1->together) (2.2.0)\n",
      "Requirement already satisfied: pygments<3.0.0,>=2.13.0 in c:\\users\\pc\\anaconda3\\lib\\site-packages (from rich<14.0.0,>=13.8.1->together) (2.15.1)\n",
      "Requirement already satisfied: mdurl~=0.1 in c:\\users\\pc\\anaconda3\\lib\\site-packages (from markdown-it-py>=2.2.0->rich<14.0.0,>=13.8.1->together) (0.1.0)\n",
      "Downloading together-1.5.5-py3-none-any.whl (87 kB)\n",
      "Downloading eval_type_backport-0.2.2-py3-none-any.whl (5.8 kB)\n",
      "Downloading pillow-11.2.1-cp312-cp312-win_amd64.whl (2.7 MB)\n",
      "   ---------------------------------------- 0.0/2.7 MB ? eta -:--:--\n",
      "   ----------------------- ---------------- 1.6/2.7 MB 8.3 MB/s eta 0:00:01\n",
      "   ---------------------------------------- 2.7/2.7 MB 8.6 MB/s eta 0:00:00\n",
      "Downloading rich-13.9.4-py3-none-any.whl (242 kB)\n",
      "Installing collected packages: pillow, eval-type-backport, rich, together\n",
      "  Attempting uninstall: pillow\n",
      "    Found existing installation: pillow 10.4.0\n",
      "    Uninstalling pillow-10.4.0:\n",
      "      Successfully uninstalled pillow-10.4.0\n",
      "  Attempting uninstall: rich\n",
      "    Found existing installation: rich 13.7.1\n",
      "    Uninstalling rich-13.7.1:\n",
      "      Successfully uninstalled rich-13.7.1\n",
      "Successfully installed eval-type-backport-0.2.2 pillow-11.2.1 rich-13.9.4 together-1.5.5\n",
      "Note: you may need to restart the kernel to use updated packages.\n"
     ]
    },
    {
     "name": "stderr",
     "output_type": "stream",
     "text": [
      "ERROR: pip's dependency resolver does not currently take into account all the packages that are installed. This behaviour is the source of the following dependency conflicts.\n",
      "streamlit 1.37.1 requires pillow<11,>=7.1.0, but you have pillow 11.2.1 which is incompatible.\n"
     ]
    }
   ],
   "source": [
    "pip install together "
   ]
  },
  {
   "cell_type": "code",
   "execution_count": 61,
   "id": "27991feb-4698-46d4-912b-3955f0830011",
   "metadata": {},
   "outputs": [
    {
     "name": "stdout",
     "output_type": "stream",
     "text": [
      "Collecting pyvis\n",
      "  Downloading pyvis-0.3.2-py3-none-any.whl.metadata (1.7 kB)\n",
      "Requirement already satisfied: ipython>=5.3.0 in c:\\users\\pc\\anaconda3\\lib\\site-packages (from pyvis) (8.27.0)\n",
      "Requirement already satisfied: jinja2>=2.9.6 in c:\\users\\pc\\anaconda3\\lib\\site-packages (from pyvis) (3.1.4)\n",
      "Collecting jsonpickle>=1.4.1 (from pyvis)\n",
      "  Downloading jsonpickle-4.0.5-py3-none-any.whl.metadata (8.2 kB)\n",
      "Requirement already satisfied: networkx>=1.11 in c:\\users\\pc\\anaconda3\\lib\\site-packages (from pyvis) (3.3)\n",
      "Requirement already satisfied: decorator in c:\\users\\pc\\anaconda3\\lib\\site-packages (from ipython>=5.3.0->pyvis) (5.1.1)\n",
      "Requirement already satisfied: jedi>=0.16 in c:\\users\\pc\\anaconda3\\lib\\site-packages (from ipython>=5.3.0->pyvis) (0.19.1)\n",
      "Requirement already satisfied: matplotlib-inline in c:\\users\\pc\\anaconda3\\lib\\site-packages (from ipython>=5.3.0->pyvis) (0.1.6)\n",
      "Requirement already satisfied: prompt-toolkit<3.1.0,>=3.0.41 in c:\\users\\pc\\anaconda3\\lib\\site-packages (from ipython>=5.3.0->pyvis) (3.0.43)\n",
      "Requirement already satisfied: pygments>=2.4.0 in c:\\users\\pc\\anaconda3\\lib\\site-packages (from ipython>=5.3.0->pyvis) (2.15.1)\n",
      "Requirement already satisfied: stack-data in c:\\users\\pc\\anaconda3\\lib\\site-packages (from ipython>=5.3.0->pyvis) (0.2.0)\n",
      "Requirement already satisfied: traitlets>=5.13.0 in c:\\users\\pc\\anaconda3\\lib\\site-packages (from ipython>=5.3.0->pyvis) (5.14.3)\n",
      "Requirement already satisfied: colorama in c:\\users\\pc\\anaconda3\\lib\\site-packages (from ipython>=5.3.0->pyvis) (0.4.6)\n",
      "Requirement already satisfied: MarkupSafe>=2.0 in c:\\users\\pc\\anaconda3\\lib\\site-packages (from jinja2>=2.9.6->pyvis) (2.1.3)\n",
      "Requirement already satisfied: parso<0.9.0,>=0.8.3 in c:\\users\\pc\\anaconda3\\lib\\site-packages (from jedi>=0.16->ipython>=5.3.0->pyvis) (0.8.3)\n",
      "Requirement already satisfied: wcwidth in c:\\users\\pc\\anaconda3\\lib\\site-packages (from prompt-toolkit<3.1.0,>=3.0.41->ipython>=5.3.0->pyvis) (0.2.5)\n",
      "Requirement already satisfied: executing in c:\\users\\pc\\anaconda3\\lib\\site-packages (from stack-data->ipython>=5.3.0->pyvis) (0.8.3)\n",
      "Requirement already satisfied: asttokens in c:\\users\\pc\\anaconda3\\lib\\site-packages (from stack-data->ipython>=5.3.0->pyvis) (2.0.5)\n",
      "Requirement already satisfied: pure-eval in c:\\users\\pc\\anaconda3\\lib\\site-packages (from stack-data->ipython>=5.3.0->pyvis) (0.2.2)\n",
      "Requirement already satisfied: six in c:\\users\\pc\\anaconda3\\lib\\site-packages (from asttokens->stack-data->ipython>=5.3.0->pyvis) (1.16.0)\n",
      "Downloading pyvis-0.3.2-py3-none-any.whl (756 kB)\n",
      "   ---------------------------------------- 0.0/756.0 kB ? eta -:--:--\n",
      "   ---------------------------------------- 0.0/756.0 kB ? eta -:--:--\n",
      "   ------------- -------------------------- 262.1/756.0 kB ? eta -:--:--\n",
      "   ------------- -------------------------- 262.1/756.0 kB ? eta -:--:--\n",
      "   ------------- -------------------------- 262.1/756.0 kB ? eta -:--:--\n",
      "   -------------------------------------- 756.0/756.0 kB 790.2 kB/s eta 0:00:00\n",
      "Downloading jsonpickle-4.0.5-py3-none-any.whl (46 kB)\n",
      "Installing collected packages: jsonpickle, pyvis\n",
      "Successfully installed jsonpickle-4.0.5 pyvis-0.3.2\n",
      "Note: you may need to restart the kernel to use updated packages.\n"
     ]
    }
   ],
   "source": [
    "pip install pyvis"
   ]
  },
  {
   "cell_type": "code",
   "execution_count": 1,
   "id": "29fd277f-9ef9-4e90-bad7-93eabd9554c0",
   "metadata": {},
   "outputs": [],
   "source": [
    "from together import Together\n",
    "from neo4j import GraphDatabase\n",
    "import json\n",
    "from pyvis.network import Network"
   ]
  },
  {
   "cell_type": "code",
   "execution_count": null,
   "id": "8db673cb-8863-43a9-8aae-78fc22a5cdd5",
   "metadata": {},
   "outputs": [],
   "source": [
    "# === HARDCODED CONFIG ===\n",
    "TOGETHER_API_KEY = \"api-key\"\n",
    "NEO4J_URI = \"bolt://localhost:7687\"\n",
    "NEO4J_USER = \"neo4j\"\n",
    "NEO4J_PASSWORD = \"password\""
   ]
  },
  {
   "cell_type": "code",
   "execution_count": 21,
   "id": "c305a684-2ff9-4912-adb4-51507e15f3fb",
   "metadata": {},
   "outputs": [],
   "source": [
    "# === TOGETHER CLIENT ===\n",
    "# Initialize Together client\n",
    "client = Together(api_key=TOGETHER_API_KEY)\n",
    "\n",
    "# === SYSTEM PROMPT FOR CYHPER CONVERSION ===\n",
    "# Define the system prompt to instruct the model\n",
    "system_prompt = (\n",
    "    \"You are an expert Cypher query generator for Neo4j graph databases. Convert natural language requests into syntactically correct and optimized Cypher queries. Return only the Cypher code—no explanations, no formatting, no commentary.\"\n",
    "    \"Translate the following natural language instruction into a Cypher query. Output only the Cypher query, without any additional explanation or formatting.\"\n",
    "    \"for a Neo4j graph where each entry is a triplet:\\n\"\n",
    "    \"- subject (Entity node with name)\\n\"\n",
    "    \"- relation (relationship type, e.g., HAS_PATHOLOGICAL_FEATURE, has_cause, associated_with, treated_by, has_symptom, etc)\\n\"\n",
    "    \"- object (Entity node with name)\\n\\n\"\n",
    "    \"Generate Cypher queries that strictly follow this schema:\\n\"\n",
    "    \"(:Entity {name: '<subject>'})-[:<RELATION>]->(:Entity {name: '<object>'})\\n\\n\"\n",
    "    \"Return only the Cypher query, no explanations or comments.\"\n",
    "    \"Note: The database follows a strict naming convention—disease names begin with a capitalized first letter, followed by either 'disease' or 'syndrome.\"\n",
    "    \"\"\" sample query for your reference. \n",
    "    MATCH (s:Entity)-[r]->(o:Entity)\n",
    "    WHERE s.name CONTAINS 'Aicardi' OR o.name CONTAINS 'Aicardi'\n",
    "    RETURN s.name, type(r), o.name\n",
    "    Refer this query to generate cypher queries \"\"\"\n",
    ")"
   ]
  },
  {
   "cell_type": "code",
   "execution_count": 23,
   "id": "f1264153-edfb-45f4-a520-47a5ec298179",
   "metadata": {},
   "outputs": [],
   "source": [
    "# === CONVERT NL TO CYPHER ===\n",
    "def nl_to_cypher(nl_query):\n",
    "    response = client.chat.completions.create(\n",
    "        model=\"meta-llama/Llama-4-Maverick-17B-128E-Instruct-FP8\",\n",
    "        messages=[\n",
    "            {\"role\": \"system\", \"content\": system_prompt},\n",
    "            {\"role\": \"user\", \"content\": nl_query}\n",
    "        ]\n",
    "    )\n",
    "    return response.choices[0].message.content.strip()"
   ]
  },
  {
   "cell_type": "code",
   "execution_count": 25,
   "id": "c40a295c-dad8-4022-927b-a22a135cbea6",
   "metadata": {},
   "outputs": [
    {
     "name": "stdout",
     "output_type": "stream",
     "text": [
      "Enter a natural language query:  provide all information about fabry disease\n"
     ]
    },
    {
     "name": "stdout",
     "output_type": "stream",
     "text": [
      "\n",
      "Generated Cypher:\n",
      "MATCH (s:Entity)-[r]->(o:Entity) \n",
      "WHERE s.name CONTAINS 'Fabry disease' OR o.name CONTAINS 'Fabry disease' \n",
      "RETURN s.name, type(r), o.name\n",
      "\n"
     ]
    }
   ],
   "source": [
    "# === MAIN ===\n",
    "if __name__ == \"__main__\":\n",
    "    nl_query = input(\"Enter a natural language query: \")\n",
    "    cypher = nl_to_cypher(nl_query)\n",
    "    print(f\"\\nGenerated Cypher:\\n{cypher}\\n\")"
   ]
  },
  {
   "cell_type": "code",
   "execution_count": 27,
   "id": "815e85d3-4074-4e24-941e-4b69a06b291e",
   "metadata": {},
   "outputs": [
    {
     "name": "stdout",
     "output_type": "stream",
     "text": [
      "knowledge graph saved as graph.html!\n"
     ]
    }
   ],
   "source": [
    "# Edge color map\n",
    "relation_colors = {\n",
    "    \"treated_by\": \"#00cc66\",\n",
    "    \"has_symptom\": \"#ff6600\",\n",
    "    \"caused_by_deficiency_of\": \"#cc0000\",\n",
    "    \"increases_activity_of\": \"#6600cc\",\n",
    "    \"has_cause\": \"#006699\",\n",
    "    \"default\": \"#999999\"\n",
    "}\n",
    "\n",
    "net = Network(\n",
    "    notebook=False,\n",
    "    height=\"800px\",\n",
    "    width=\"100%\",\n",
    "    bgcolor=\"#ffffff\",\n",
    "    font_color=\"black\",\n",
    "    directed=True\n",
    ")\n",
    "net.heading = \"Knowledge Graph\"\n",
    "net.barnes_hut(\n",
    "    gravity=-20000,\n",
    "    central_gravity=0.3,\n",
    "    spring_length=150,\n",
    "    spring_strength=0.05,\n",
    "    damping=0.95,\n",
    "    overlap=0.8\n",
    ")\n",
    "net.show_buttons(filter_=[\"physics\"])\n",
    "\n",
    "driver = GraphDatabase.driver(\"bolt://localhost:7687\", auth=(\"neo4j\", \"0987654321\"))\n",
    "\n",
    "with driver.session() as session:\n",
    "    query = cypher\n",
    "    result = session.run(query)\n",
    "    added_nodes = set()\n",
    "\n",
    "    for record in result:\n",
    "        source = record[\"s.name\"]\n",
    "        relation = record[\"type(r)\"]\n",
    "        target = record[\"o.name\"]\n",
    "\n",
    "        if source not in added_nodes:\n",
    "            net.add_node(source, label=source, color=\"#82caff\", shape=\"dot\", size=15)\n",
    "            added_nodes.add(source)\n",
    "        if target not in added_nodes:\n",
    "            net.add_node(target, label=target, color=\"#f0a1a8\", shape=\"dot\", size=15)\n",
    "            added_nodes.add(target)\n",
    "\n",
    "        color = relation_colors.get(relation.lower(), relation_colors[\"default\"])\n",
    "        net.add_edge(source, target, label=relation, color=color, width=2, arrows=\"to\", smooth=True)\n",
    "\n",
    "net.save_graph(r\"C:\\AISSMS-IOIT-Practicals\\Mavericks_AMUHACKS4.0\\Graphs\\graph.html\")\n",
    "print(\"knowledge graph saved as graph.html!\")"
   ]
  },
  {
   "cell_type": "code",
   "execution_count": null,
   "id": "ee44a2e1-0ed2-4ac3-a654-4585f1ca87bb",
   "metadata": {},
   "outputs": [],
   "source": []
  }
 ],
 "metadata": {
  "kernelspec": {
   "display_name": "Python [conda env:base] *",
   "language": "python",
   "name": "conda-base-py"
  },
  "language_info": {
   "codemirror_mode": {
    "name": "ipython",
    "version": 3
   },
   "file_extension": ".py",
   "mimetype": "text/x-python",
   "name": "python",
   "nbconvert_exporter": "python",
   "pygments_lexer": "ipython3",
   "version": "3.12.7"
  }
 },
 "nbformat": 4,
 "nbformat_minor": 5
}
