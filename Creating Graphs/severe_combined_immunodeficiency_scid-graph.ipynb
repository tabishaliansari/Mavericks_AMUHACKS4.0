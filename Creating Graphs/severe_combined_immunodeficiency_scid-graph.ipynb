{
 "cells": [
  {
   "cell_type": "code",
   "execution_count": 4,
   "id": "e7ae84ac-3603-4a4f-b6a1-cb5075deae7e",
   "metadata": {},
   "outputs": [],
   "source": [
    "import json\n",
    "from neo4j import GraphDatabase"
   ]
  },
  {
   "cell_type": "code",
   "execution_count": 8,
   "id": "c442f304-ff77-4135-8c90-3255063ee001",
   "metadata": {},
   "outputs": [
    {
     "name": "stderr",
     "output_type": "stream",
     "text": [
      "C:\\Users\\PC\\AppData\\Local\\Temp\\ipykernel_24048\\407074553.py:27: DeprecationWarning: write_transaction has been renamed to execute_write\n",
      "  session.write_transaction(\n"
     ]
    },
    {
     "name": "stdout",
     "output_type": "stream",
     "text": [
      "✅ All triples inserted into Neo4j successfully!\n"
     ]
    }
   ],
   "source": [
    "# Neo4j connection\n",
    "uri = \"bolt://localhost:7687\"\n",
    "user = \"neo4j\"\n",
    "password = \"1234567890\"  # 🔒 Replace with your actual password\n",
    "\n",
    "driver = GraphDatabase.driver(uri, auth=(user, password))\n",
    "\n",
    "# Function to insert a triple\n",
    "def create_triple(tx, subject, relation, object_):\n",
    "    tx.run(\n",
    "        \"\"\"\n",
    "        MERGE (s:Entity {name: $subject})\n",
    "        MERGE (o:Entity {name: $object})\n",
    "        MERGE (s)-[r:`%s`]->(o)\n",
    "        \"\"\" % relation.replace(\" \", \"_\"),  # Ensures valid relationship type\n",
    "        subject=subject,\n",
    "        object=object_\n",
    "    )\n",
    "\n",
    "# Load triples from your file\n",
    "with open(r\"C:\\AISSMS-IOIT-Practicals\\severe_combined_immunodeficiency_scid-triples-cleaned.json\", \"r\", encoding=\"utf-8\") as f:\n",
    "    triples = json.load(f)\n",
    "\n",
    "# Insert all triples into Neo4j\n",
    "with driver.session() as session:\n",
    "    for triple in triples:\n",
    "        session.write_transaction(\n",
    "            create_triple,\n",
    "            triple[\"subject\"],\n",
    "            triple[\"relation\"],\n",
    "            triple[\"object\"]\n",
    "        )\n",
    "\n",
    "print(\"✅ All triples inserted into Neo4j successfully!\")\n"
   ]
  },
  {
   "cell_type": "code",
   "execution_count": null,
   "id": "a0e2810a-4d71-47a8-bd41-9c59478f0e70",
   "metadata": {},
   "outputs": [],
   "source": []
  }
 ],
 "metadata": {
  "kernelspec": {
   "display_name": "Python [conda env:base] *",
   "language": "python",
   "name": "conda-base-py"
  },
  "language_info": {
   "codemirror_mode": {
    "name": "ipython",
    "version": 3
   },
   "file_extension": ".py",
   "mimetype": "text/x-python",
   "name": "python",
   "nbconvert_exporter": "python",
   "pygments_lexer": "ipython3",
   "version": "3.12.7"
  }
 },
 "nbformat": 4,
 "nbformat_minor": 5
}
