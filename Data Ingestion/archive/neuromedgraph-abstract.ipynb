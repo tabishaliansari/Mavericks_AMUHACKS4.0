{
 "cells": [
  {
   "metadata": {
    "ExecuteTime": {
     "end_time": "2025-04-12T18:32:59.690334Z",
     "start_time": "2025-04-12T18:32:59.685619Z"
    }
   },
   "cell_type": "code",
   "source": [
    "import requests\n",
    "import json"
   ],
   "id": "91147d1d9e4c7a06",
   "outputs": [],
   "execution_count": 5
  },
  {
   "metadata": {
    "ExecuteTime": {
     "end_time": "2025-04-12T18:48:47.061926Z",
     "start_time": "2025-04-12T18:48:47.054818Z"
    }
   },
   "cell_type": "code",
   "source": [
    "def get_abstracts(query, size=30):\n",
    "    url = \"https://www.ebi.ac.uk/europepmc/webservices/rest/search\"\n",
    "    params = {\n",
    "        \"query\": query,\n",
    "        \"format\": \"json\",\n",
    "        \"pageSize\": size\n",
    "    }\n",
    "\n",
    "    r = requests.get(url, params=params)\n",
    "    data = r.json()\n",
    "\n",
    "    abstracts = []\n",
    "    for result in data.get(\"resultList\", {}).get(\"result\", []):\n",
    "        # Only keep papers with an actual abstract\n",
    "        if \"abstractText\" in result and result[\"abstractText\"].strip():\n",
    "            abstracts.append({\n",
    "                \"pmid\": result.get(\"pmid\", \"\"),\n",
    "                \"title\": result.get(\"title\", \"\"),\n",
    "                \"abstract\": result.get(\"abstractText\").strip(),\n",
    "                \"journal\": result.get(\"journalTitle\", \"\"),\n",
    "                \"year\": result.get(\"pubYear\", \"\")\n",
    "            })\n",
    "\n",
    "    return abstracts\n"
   ],
   "id": "17615c4e914d7b2b",
   "outputs": [],
   "execution_count": 24
  },
  {
   "metadata": {
    "ExecuteTime": {
     "end_time": "2025-04-12T18:42:36.129645Z",
     "start_time": "2025-04-12T18:42:36.124775Z"
    }
   },
   "cell_type": "code",
   "source": "query = '\"Fabry Disease\" AND HAS_ABSTRACT:Y'",
   "id": "6829fc5cd31e09c2",
   "outputs": [],
   "execution_count": 21
  },
  {
   "metadata": {
    "ExecuteTime": {
     "end_time": "2025-04-12T18:49:03.570308Z",
     "start_time": "2025-04-12T18:49:02.607490Z"
    }
   },
   "cell_type": "code",
   "source": [
    "fabry_abstracts = get_abstracts('\"Fabry Disease\" AND HAS_ABSTRACT:Y', size=50)\n",
    "print(f\"Total abstracts found: {len(fabry_abstracts)}\")"
   ],
   "id": "87d45da407c6abcd",
   "outputs": [
    {
     "name": "stdout",
     "output_type": "stream",
     "text": [
      "Total abstracts found: 0\n"
     ]
    }
   ],
   "execution_count": 25
  },
  {
   "metadata": {
    "ExecuteTime": {
     "end_time": "2025-04-12T18:43:18.815710Z",
     "start_time": "2025-04-12T18:43:18.808785Z"
    }
   },
   "cell_type": "code",
   "source": "print(json.dumps(fabry_abstracts, indent=2))",
   "id": "30722a700754c926",
   "outputs": [
    {
     "name": "stdout",
     "output_type": "stream",
     "text": [
      "[]\n"
     ]
    }
   ],
   "execution_count": 23
  },
  {
   "metadata": {
    "ExecuteTime": {
     "end_time": "2025-04-12T18:41:27.745610Z",
     "start_time": "2025-04-12T18:41:27.738146Z"
    }
   },
   "cell_type": "code",
   "source": [
    "with open(\"C:\\\\AISSMS-IOIT-Practicals\\\\MLOps\\\\data\\\\fabry_disease.json\", \"w\", encoding=\"utf-8\") as f:\n",
    "    json.dump(fabry_abstracts, f, indent=2, ensure_ascii=False)\n"
   ],
   "id": "6019ad6638ae27a8",
   "outputs": [],
   "execution_count": 19
  },
  {
   "metadata": {
    "ExecuteTime": {
     "end_time": "2025-04-12T18:41:30.039204Z",
     "start_time": "2025-04-12T18:41:30.031164Z"
    }
   },
   "cell_type": "code",
   "source": "print(f\"Fetched {len(fabry_abstracts)} abstracts for Fabry Disease.\")",
   "id": "9a0f302d536b8539",
   "outputs": [
    {
     "name": "stdout",
     "output_type": "stream",
     "text": [
      "Fetched 0 abstracts for Fabry Disease.\n"
     ]
    }
   ],
   "execution_count": 20
  }
 ],
 "metadata": {
  "kernelspec": {
   "display_name": "Python 3",
   "language": "python",
   "name": "python3"
  },
  "language_info": {
   "codemirror_mode": {
    "name": "ipython",
    "version": 2
   },
   "file_extension": ".py",
   "mimetype": "text/x-python",
   "name": "python",
   "nbconvert_exporter": "python",
   "pygments_lexer": "ipython2",
   "version": "2.7.6"
  }
 },
 "nbformat": 4,
 "nbformat_minor": 5
}
