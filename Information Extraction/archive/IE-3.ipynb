{
 "cells": [
  {
   "cell_type": "code",
   "execution_count": 1,
   "id": "6bf41c55-5209-4b06-9bd9-8ccd0540ab8f",
   "metadata": {},
   "outputs": [
    {
     "name": "stdout",
     "output_type": "stream",
     "text": [
      "Requirement already satisfied: transformers in c:\\users\\pc\\anaconda3\\lib\\site-packages (4.51.2)\n",
      "Requirement already satisfied: torch in c:\\users\\pc\\anaconda3\\lib\\site-packages (2.6.0)\n",
      "Requirement already satisfied: beautifulsoup4 in c:\\users\\pc\\anaconda3\\lib\\site-packages (4.12.3)\n",
      "Requirement already satisfied: filelock in c:\\users\\pc\\anaconda3\\lib\\site-packages (from transformers) (3.13.1)\n",
      "Requirement already satisfied: huggingface-hub<1.0,>=0.30.0 in c:\\users\\pc\\anaconda3\\lib\\site-packages (from transformers) (0.30.2)\n",
      "Requirement already satisfied: numpy>=1.17 in c:\\users\\pc\\anaconda3\\lib\\site-packages (from transformers) (1.26.4)\n",
      "Requirement already satisfied: packaging>=20.0 in c:\\users\\pc\\anaconda3\\lib\\site-packages (from transformers) (24.1)\n",
      "Requirement already satisfied: pyyaml>=5.1 in c:\\users\\pc\\anaconda3\\lib\\site-packages (from transformers) (6.0.1)\n",
      "Requirement already satisfied: regex!=2019.12.17 in c:\\users\\pc\\anaconda3\\lib\\site-packages (from transformers) (2024.9.11)\n",
      "Requirement already satisfied: requests in c:\\users\\pc\\anaconda3\\lib\\site-packages (from transformers) (2.32.3)\n",
      "Requirement already satisfied: tokenizers<0.22,>=0.21 in c:\\users\\pc\\anaconda3\\lib\\site-packages (from transformers) (0.21.1)\n",
      "Requirement already satisfied: safetensors>=0.4.3 in c:\\users\\pc\\anaconda3\\lib\\site-packages (from transformers) (0.5.3)\n",
      "Requirement already satisfied: tqdm>=4.27 in c:\\users\\pc\\anaconda3\\lib\\site-packages (from transformers) (4.66.5)\n",
      "Requirement already satisfied: typing-extensions>=4.10.0 in c:\\users\\pc\\anaconda3\\lib\\site-packages (from torch) (4.11.0)\n",
      "Requirement already satisfied: networkx in c:\\users\\pc\\anaconda3\\lib\\site-packages (from torch) (3.3)\n",
      "Requirement already satisfied: jinja2 in c:\\users\\pc\\anaconda3\\lib\\site-packages (from torch) (3.1.4)\n",
      "Requirement already satisfied: fsspec in c:\\users\\pc\\anaconda3\\lib\\site-packages (from torch) (2024.6.1)\n",
      "Requirement already satisfied: setuptools in c:\\users\\pc\\anaconda3\\lib\\site-packages (from torch) (75.1.0)\n",
      "Requirement already satisfied: sympy==1.13.1 in c:\\users\\pc\\anaconda3\\lib\\site-packages (from torch) (1.13.1)\n",
      "Requirement already satisfied: mpmath<1.4,>=1.1.0 in c:\\users\\pc\\anaconda3\\lib\\site-packages (from sympy==1.13.1->torch) (1.3.0)\n",
      "Requirement already satisfied: soupsieve>1.2 in c:\\users\\pc\\anaconda3\\lib\\site-packages (from beautifulsoup4) (2.5)\n",
      "Requirement already satisfied: colorama in c:\\users\\pc\\anaconda3\\lib\\site-packages (from tqdm>=4.27->transformers) (0.4.6)\n",
      "Requirement already satisfied: MarkupSafe>=2.0 in c:\\users\\pc\\anaconda3\\lib\\site-packages (from jinja2->torch) (2.1.3)\n",
      "Requirement already satisfied: charset-normalizer<4,>=2 in c:\\users\\pc\\anaconda3\\lib\\site-packages (from requests->transformers) (3.3.2)\n",
      "Requirement already satisfied: idna<4,>=2.5 in c:\\users\\pc\\anaconda3\\lib\\site-packages (from requests->transformers) (3.7)\n",
      "Requirement already satisfied: urllib3<3,>=1.21.1 in c:\\users\\pc\\anaconda3\\lib\\site-packages (from requests->transformers) (2.2.3)\n",
      "Requirement already satisfied: certifi>=2017.4.17 in c:\\users\\pc\\anaconda3\\lib\\site-packages (from requests->transformers) (2025.1.31)\n",
      "Note: you may need to restart the kernel to use updated packages.\n"
     ]
    }
   ],
   "source": [
    "pip install transformers torch beautifulsoup4"
   ]
  },
  {
   "cell_type": "code",
   "execution_count": 3,
   "id": "9972777d-36e3-433f-aac2-2b6b08970df1",
   "metadata": {},
   "outputs": [],
   "source": [
    "import json\n",
    "import re\n",
    "from pathlib import Path\n",
    "from transformers import pipeline\n",
    "from bs4 import BeautifulSoup"
   ]
  },
  {
   "cell_type": "code",
   "execution_count": null,
   "id": "93912f01-66c5-46ea-abdb-0cbab297770a",
   "metadata": {},
   "outputs": [
    {
     "name": "stderr",
     "output_type": "stream",
     "text": [
      "Device set to use cpu\n"
     ]
    },
    {
     "name": "stdout",
     "output_type": "stream",
     "text": [
      "[✗] Skipped 1/100 – Error: Expecting value: line 1 column 2 (char 1)\n",
      "Raw model output:\n",
      "[TABLECONTEXT] PRESENTATION [TABLECONTEXT] [TITLE] Fabry disease Fabry disease -GLA -GLA -GLA -GLA -GLA -GLA -GLA -GLA -GLA -GLA -GLA -GLA -GLA -GLA -GLA -GLA -GLA -GLA -GLA -GLA -GLA -GLA -GLA -GLA -GLA -GLA -GLA -GLA -GLA -GLA -GLA -GLA -GLA -GLA -GLA -GLA -GLA -GLA -GLA -GLA -GLA -GLA -GLA -GLA -\n",
      "\n"
     ]
    },
    {
     "name": "stderr",
     "output_type": "stream",
     "text": [
      "C:\\Users\\PC\\AppData\\Local\\Temp\\ipykernel_18556\\2822061320.py:6: MarkupResemblesLocatorWarning: The input looks more like a filename than markup. You may want to open this file and pass the filehandle into Beautiful Soup.\n",
      "  soup = BeautifulSoup(raw_html, \"html.parser\")\n"
     ]
    },
    {
     "name": "stdout",
     "output_type": "stream",
     "text": [
      "[✗] Skipped 2/100 – Error: Expecting value: line 1 column 129 (char 128)\n",
      "Raw model output:\n",
      "[                                                                                                                               \n",
      "\n",
      "[✗] Skipped 3/100 – Error: Expecting value: line 1 column 2 (char 1)\n",
      "Raw model output:\n",
      "[TABLECONTEXT] INDUSTRY Fabry disease [TABLECONTEXT] INDUSTRY RECTAS-2.0 [TABLECONTEXT] INDUSTRY RNA splicing variants\n",
      "\n",
      "[✗] Skipped 4/100 – Error: Expecting value: line 1 column 2 (char 1)\n",
      "Raw model output:\n",
      "[TABLECONTEXT] [TITLE] Fabry disease Fabry disease GENRE GLA gene Fabry disease GENRE -galactosidase A\n",
      "\n"
     ]
    },
    {
     "name": "stderr",
     "output_type": "stream",
     "text": [
      "Token indices sequence length is longer than the specified maximum sequence length for this model (672 > 512). Running this sequence through the model will result in indexing errors\n"
     ]
    },
    {
     "name": "stdout",
     "output_type": "stream",
     "text": [
      "[✗] Skipped 5/100 – Error: Expecting value: line 1 column 2 (char 1)\n",
      "Raw model output:\n",
      "[TABLECONTEXT] [TITLE] Fabry disease in patients with kidney disease [TABLECONTEXT] POSITION Renal Department of Shandong Provincial Hospital Affiliated to Shandong First Medical University [TABLECONTEXT] POSITION Renal Department of Shandong Provincial Hospital Affiliated to Shandong First Medical University\n",
      "\n",
      "[✗] Skipped 6/100 – Error: Expecting value: line 1 column 2 (char 1)\n",
      "Raw model output:\n",
      "[TABLECONTEXT] [TITLE] Fabry disease Fabry disease GEN_MODEL 13 novel mutation sites in the GLA gene for Fabry disease [TABLECONTEXT] GEN_MODEL 4 missense mutations\n",
      "\n",
      "[✗] Skipped 7/100 – Error: Extra data: line 1 column 4 (char 3)\n",
      "Raw model output:\n",
      "[] ABBREVIATION Fabry disease [TABLECONTEXT] ABBREVIATION Heat-induced pain attacks in Fabry disease [TABLECONTEXT] ABBREVIATION Heat-induced pain attacks in Fabry disease [TABLECONTEXT] \n",
      "\n",
      "[✗] Skipped 8/100 – Error: Expecting value: line 1 column 2 (char 1)\n",
      "Raw model output:\n",
      "[TABLECONTEXT] [TITLE] Cardiac shear wave elastography Cardiac amyloidosis Cardiac amyloidosis FEDERATION Cardiac amyloidosis Cardiac amyloidosis FEDERATION Healthy volunteers Cardiac amyloidosis FEDERATION Fabry disease Cardiac amyloidosis FEDERATION Healthy volunteers Cardiac amyloidosis FEDERATION Cardiac amyloidosis\n",
      "\n",
      "[✗] Skipped 9/100 – Error: Expecting value: line 1 column 2 (char 1)\n",
      "Raw model output:\n",
      "[TABLECONTEXT] [TITLE] Fabry disease Fabry disease FENCING HYPERTENSE                                                                                                                 \n",
      "\n",
      "[✗] Skipped 10/100 – Error: Expecting value: line 1 column 1 (char 0)\n",
      "Raw model output:\n",
      "Fabry disease (FD) COUNTRY United States Fabry disease (FD) POSITION -galactosidase A deficiency -galactosidase A -galactosidase A -galactosidase A -galactosidase A -galactosidase A -galactosidase A -galactosidase A -galactosidase A -galactosidase A -galactosidase A -galactosidase A -galactosidase A -galactosidase A -galactosidase A -galactosidase A -galactosidase A -galactosidase A -galactosidase A -galactosidase A -galactosidas\n",
      "\n",
      "[✗] Skipped 11/100 – Error: Expecting value: line 1 column 2 (char 1)\n",
      "Raw model output:\n",
      "[TABLECONTEXT] [TITLE] Fabry disease Fabry disease POSITION Fabry disease Fabry disease POSITION Fabry disease \n",
      "\n",
      "[✗] Skipped 12/100 – Error: Expecting value: line 1 column 2 (char 1)\n",
      "Raw model output:\n",
      "[TABLECONTEXT] [TITLE] Fabrill disease Fabry disease Fabry disease AFTER_STATUS Left atrial hypertrophy Left atrial hypertrophy AFTER_STATUS AFTER_STATUS AFTER_STATUS AFTER_STATUS AFTER_STATUS AFTER_STATUS AFTER_STATUS AFTER_STATUS AFTER_STATUS AFTER_STATUS AFTER_STATUS AFTER_STATUS AFTER_STATUS AFTER_STATUS AFTER_STATUS AFTER_STATUS AFTER_STATUS AFTER_STATUS AFTER_STATUS AFTER_STATUS AFTER_STATUS AFTER_STATUS AFTER_STATUS AFTER_STATUS AFTER_STATUS AFTER_STATUS AFTER_STATUS AFTER_STATUS AFTER_STATUS AFTER_STATUS AF\n",
      "\n",
      "[✗] Skipped 13/100 – Error: Expecting value: line 1 column 2 (char 1)\n",
      "Raw model output:\n",
      "[TABLECONTEXT] [TITLE] Fabry disease [TABLECONTEXT] ARTIST Fabry disease Fabry disease ANTI-GLYSINGOPITAL Fabry disease ANTI-GLYSINGOPITAL Fabry disease ANTI-GLYSINGOPITAL Fabry disease ANTI-GLYSINGOPITAL Fabry disease ANTI-GLYSINGOPITAL Fabry disease ANTI-GLYSINGOPITAL Fabry disease ANTI-GLYSINGOPITAL Fabry disease ANTI-GLYSINGOPITAL Fabry disease ANTI-GLYSINGOPITAL Fabry disease ANTI-GLYSINGOPITAL Fabry disease ANTI-GLYSINGOPITAL Fabry disease ANTI-GLYSINGOPITAL Fabry disease ANTI-GLYSINGOPITAL Fabry disease ANTI-GLYSINGOPITAL Fabry disease ANTI-GLYSINGOPI\n",
      "\n",
      "[✗] Skipped 14/100 – Error: Expecting value: line 1 column 2 (char 1)\n",
      "Raw model output:\n",
      "[TABLECONTEXT] [TITLE] Left atrial strain in hypertrophic cardiomyopathy, cardiac amyloidosis, and Fabry disease [TABLECONTEXT] ARTICLE Left atrial strain in hypertrophic cardiomyopathy, cardiac amyloidosis, and Fabry disease\n",
      "\n"
     ]
    }
   ],
   "source": [
    "# Load the local text-to-text model\n",
    "extractor = pipeline(\"text2text-generation\", model=\"google/flan-t5-base\", max_new_tokens=256)\n",
    "\n",
    "# Utility to clean HTML from abstracts\n",
    "def clean_html(raw_html):\n",
    "    soup = BeautifulSoup(raw_html, \"html.parser\")\n",
    "    return soup.get_text().strip()\n",
    "\n",
    "# Load input file\n",
    "with open(r\"C:\\AISSMS-IOIT-Practicals\\MLOps\\data\\fabry_disease.json\", \"r\") as f:\n",
    "    abstracts = json.load(f)\n",
    "\n",
    "triples_output = []\n",
    "\n",
    "for i, item in enumerate(abstracts, start=1):\n",
    "    abstract_raw = item.get(\"abstract\", \"\")\n",
    "    if not abstract_raw.strip():\n",
    "        continue\n",
    "\n",
    "    abstract = clean_html(abstract_raw)\n",
    "\n",
    "    prompt = f\"\"\"\n",
    "     From the abstract below, extract all meaningful biomedical knowledge triples.\n",
    "     Each triple should be in the format:\n",
    "     {{ \"subject\": ..., \"relation\": ..., \"object\": ... }}\n",
    "     Focus on relationships involving diseases, symptoms, treatments, causes, drugs, genes, and enzymes.\n",
    "     Abstract:\n",
    "     \\\"\\\"\\\"\n",
    "     {abstract}\n",
    "     \\\"\\\"\\\"\n",
    "     Output only a JSON list of triples:\n",
    "     [\n",
    "       {{ \"subject\": ..., \"relation\": ..., \"object\": ... }}\n",
    "     ]\n",
    "    \"\"\"\n",
    "\n",
    "\n",
    "    try:\n",
    "        result = extractor(prompt)[0][\"generated_text\"]\n",
    "        triples = json.loads(result)\n",
    "        triples_output.extend(triples)\n",
    "        print(f\"[✓] Processed {i}/{len(abstracts)}\")\n",
    "    except Exception as e:\n",
    "        print(f\"[✗] Skipped {i}/{len(abstracts)} – Error: {e}\")\n",
    "        print(f\"Raw model output:\\n{result}\\n\")\n",
    "\n",
    "# Save all extracted triples\n",
    "#Path(\"output\").mkdir(exist_ok=True)\n",
    "with open(r\"C:\\AISSMS-IOIT-Practicals\\MLOps\\data\\fabry_disease.json/triples.json\", \"w\") as f:\n",
    "    json.dump(triples_output, f, indent=2)\n",
    "\n",
    "print(\"✅ All triples saved to output/triples.json\")\n"
   ]
  },
  {
   "cell_type": "code",
   "execution_count": null,
   "id": "71f97a0c-0560-4e1b-b421-748268209c2f",
   "metadata": {},
   "outputs": [],
   "source": []
  }
 ],
 "metadata": {
  "kernelspec": {
   "display_name": "Python [conda env:base] *",
   "language": "python",
   "name": "conda-base-py"
  },
  "language_info": {
   "codemirror_mode": {
    "name": "ipython",
    "version": 3
   },
   "file_extension": ".py",
   "mimetype": "text/x-python",
   "name": "python",
   "nbconvert_exporter": "python",
   "pygments_lexer": "ipython3",
   "version": "3.12.7"
  }
 },
 "nbformat": 4,
 "nbformat_minor": 5
}
