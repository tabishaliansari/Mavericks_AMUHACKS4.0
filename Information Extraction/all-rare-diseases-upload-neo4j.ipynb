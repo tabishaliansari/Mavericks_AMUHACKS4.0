{
 "cells": [
  {
   "cell_type": "code",
   "execution_count": 3,
   "id": "4e6307f2-e281-4592-aa6f-96dc8d690438",
   "metadata": {},
   "outputs": [],
   "source": [
    "import json\n",
    "from neo4j import GraphDatabase"
   ]
  },
  {
   "cell_type": "code",
   "execution_count": 11,
   "id": "47e96e44-1bbc-43c4-8c68-1fbe33339024",
   "metadata": {},
   "outputs": [
    {
     "name": "stdout",
     "output_type": "stream",
     "text": [
      "✅ All triples inserted into Neo4j successfully!\n"
     ]
    }
   ],
   "source": [
    "# Neo4j connection\n",
    "uri = \"bolt://localhost:7687\"\n",
    "user = \"neo4j\"\n",
    "password = \"password\"  # 🔒 Replace with your actual password\n",
    "\n",
    "driver = GraphDatabase.driver(uri, auth=(user, password))\n",
    "\n",
    "# Function to insert a triple\n",
    "def create_triple(tx, subject, relation, object_):\n",
    "    tx.run(\n",
    "        \"\"\"\n",
    "        MERGE (s:Entity {name: $subject})\n",
    "        MERGE (o:Entity {name: $object})\n",
    "        MERGE (s)-[r:`%s`]->(o)\n",
    "        \"\"\" % relation.replace(\" \", \"_\"),  # Ensures valid relationship type\n",
    "        subject=subject,\n",
    "        object=object_\n",
    "    )\n",
    "\n",
    "# Load triples from your file\n",
    "with open(r\"C:\\AISSMS-IOIT-Practicals\\Mavericks_AMUHACKS4.0\\diseases_triple\\all_rare_diseases_triples_cleaned.json\", \"r\", encoding=\"utf-8\") as f:\n",
    "    triples = json.load(f)\n",
    "\n",
    "# Insert all triples into Neo4j\n",
    "with driver.session() as session:\n",
    "    for triple in triples:\n",
    "        subject = triple.get(\"subject\", \"\").strip()\n",
    "        relation = triple.get(\"relation\", \"\").strip()\n",
    "        object_ = triple.get(\"object\", \"\").strip()\n",
    "\n",
    "        # ✅ Skip if any part of the triple is missing\n",
    "        if not subject or not relation or not object_:\n",
    "            print(f\"⚠️ Skipping invalid triple: {triple}\")\n",
    "            continue\n",
    "\n",
    "        session.execute_write(create_triple, subject, relation, object_)\n",
    "\n",
    "print(\"✅ All triples inserted into Neo4j successfully!\")"
   ]
  },
  {
   "cell_type": "code",
   "execution_count": null,
   "id": "74b83fee-ff13-4e67-a517-bd60775ecf22",
   "metadata": {},
   "outputs": [],
   "source": []
  }
 ],
 "metadata": {
  "kernelspec": {
   "display_name": "Python [conda env:base] *",
   "language": "python",
   "name": "conda-base-py"
  },
  "language_info": {
   "codemirror_mode": {
    "name": "ipython",
    "version": 3
   },
   "file_extension": ".py",
   "mimetype": "text/x-python",
   "name": "python",
   "nbconvert_exporter": "python",
   "pygments_lexer": "ipython3",
   "version": "3.12.7"
  }
 },
 "nbformat": 4,
 "nbformat_minor": 5
}
