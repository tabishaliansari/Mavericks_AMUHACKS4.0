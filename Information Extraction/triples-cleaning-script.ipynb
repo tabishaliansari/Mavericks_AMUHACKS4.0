{
 "cells": [
  {
   "cell_type": "code",
   "execution_count": 5,
   "id": "5d68c18c-fbaa-42c9-82bd-d8bbd77f9900",
   "metadata": {},
   "outputs": [
    {
     "name": "stdout",
     "output_type": "stream",
     "text": [
      "✅ Cleaned 18729 valid triples saved to 'C:\\AISSMS-IOIT-Practicals\\Mavericks_AMUHACKS4.0\\Information Extraction\\all-rare-diseases-triples-cleaned.json'\n",
      "🧹 Removed 133 invalid triples\n"
     ]
    }
   ],
   "source": [
    "import json\n",
    "\n",
    "# Input and output file paths\n",
    "input_file = r\"C:\\AISSMS-IOIT-Practicals\\Mavericks_AMUHACKS4.0\\Information Extraction\\all-rare-diseases-triples.json\"\n",
    "output_file = r\"C:\\AISSMS-IOIT-Practicals\\Mavericks_AMUHACKS4.0\\Information Extraction\\all-rare-diseases-triples-cleaned.json\"\n",
    "\n",
    "# Load the triples from file\n",
    "with open(input_file, \"r\", encoding=\"utf-8\") as f:\n",
    "    raw_triples = json.load(f)\n",
    "\n",
    "# Filter out bad entries\n",
    "cleaned_triples = []\n",
    "\n",
    "for triple in raw_triples:\n",
    "    subject = (triple.get(\"subject\") or \"\").strip()\n",
    "    relation = (triple.get(\"relation\") or \"\").strip()\n",
    "    object_ = (triple.get(\"object\") or \"\").strip()\n",
    "\n",
    "    if subject and relation and object_:\n",
    "        cleaned_triples.append({\n",
    "            \"subject\": subject,\n",
    "            \"relation\": relation,\n",
    "            \"object\": object_\n",
    "        })\n",
    "\n",
    "# Save the cleaned triples\n",
    "with open(output_file, \"w\", encoding=\"utf-8\") as f:\n",
    "    json.dump(cleaned_triples, f, indent=2, ensure_ascii=False)\n",
    "\n",
    "print(f\"✅ Cleaned {len(cleaned_triples)} valid triples saved to '{output_file}'\")\n",
    "print(f\"🧹 Removed {len(raw_triples) - len(cleaned_triples)} invalid triples\")\n"
   ]
  },
  {
   "cell_type": "code",
   "execution_count": null,
   "id": "3c7e4b37-b98d-422f-9f8f-9b6949fe8e88",
   "metadata": {},
   "outputs": [],
   "source": []
  }
 ],
 "metadata": {
  "kernelspec": {
   "display_name": "Python [conda env:base] *",
   "language": "python",
   "name": "conda-base-py"
  },
  "language_info": {
   "codemirror_mode": {
    "name": "ipython",
    "version": 3
   },
   "file_extension": ".py",
   "mimetype": "text/x-python",
   "name": "python",
   "nbconvert_exporter": "python",
   "pygments_lexer": "ipython3",
   "version": "3.12.7"
  }
 },
 "nbformat": 4,
 "nbformat_minor": 5
}
