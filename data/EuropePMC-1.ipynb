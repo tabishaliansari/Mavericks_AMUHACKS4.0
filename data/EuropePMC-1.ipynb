{
 "cells": [
  {
   "cell_type": "code",
   "execution_count": 1,
   "id": "aee71b9a-287d-4db2-80ae-17914c1813a2",
   "metadata": {},
   "outputs": [],
   "source": [
    "import requests\n",
    "import json"
   ]
  },
  {
   "cell_type": "code",
   "execution_count": 3,
   "id": "c001f7bc-9b02-499e-a0c3-717f619745f3",
   "metadata": {},
   "outputs": [],
   "source": [
    "def get_abstracts(query, size=30):\n",
    "    url = \"https://www.ebi.ac.uk/europepmc/webservices/rest/search\"\n",
    "    params = {\n",
    "        \"query\": query,\n",
    "        \"resultType\": \"core\",\n",
    "        \"pageSize\": 100,\n",
    "        \"format\": \"json\",\n",
    "    }\n",
    "\n",
    "    r = requests.get(url, params=params)\n",
    "    data = r.json()\n",
    "\n",
    "    abstracts = []\n",
    "    for result in data.get(\"resultList\", {}).get(\"result\", []):\n",
    "        # Only keep papers with an actual abstract\n",
    "        if \"abstractText\" in result and result[\"abstractText\"].strip():\n",
    "            abstracts.append({\n",
    "                \"pmid\": result.get(\"pmid\", \"\"),\n",
    "                \"doi\": result.get(\"doi\", \"\"),\n",
    "                \"title\": result.get(\"title\", \"\"),\n",
    "                \"abstract\": result.get(\"abstractText\").strip(),\n",
    "                \"journal\": result.get(\"journalTitle\", \"\"),\n",
    "                \"year\": result.get(\"pubYear\", \"\")\n",
    "            })\n",
    "\n",
    "    return abstracts"
   ]
  },
  {
   "cell_type": "code",
   "execution_count": 5,
   "id": "fe6a8e87-31c2-4f7d-b291-a37b3cc82c47",
   "metadata": {},
   "outputs": [
    {
     "name": "stdout",
     "output_type": "stream",
     "text": [
      "Total abstracts found: 100\n"
     ]
    }
   ],
   "source": [
    "query = '\"Fabry Disease\" AND HAS_ABSTRACT:Y'\n",
    "fabry_abstracts = get_abstracts(query, size=100)\n",
    "print(f\"Total abstracts found: {len(fabry_abstracts)}\")"
   ]
  },
  {
   "cell_type": "code",
   "execution_count": 15,
   "id": "9e82e628-e852-4a23-8dde-621b6f10ad74",
   "metadata": {},
   "outputs": [
    {
     "name": "stdout",
     "output_type": "stream",
     "text": [
      "{\n",
      "  \"pmid\": \"39864340\",\n",
      "  \"doi\": \"10.1016/j.scr.2025.103666\",\n",
      "  \"title\": \"Generation of an induced pluripotent stem cell line (SMBCi022-A) from a patient with Fabry disease.\",\n",
      "  \"abstract\": \"Fabry disease (FD) is a systemic disease in which globotriaosylceramide and other naturally occurring glycosphingolipid accumulate in various tissues throughout the body due to mutation of \\u03b1-galactosidase A (GLA). These induced pluripotent stem cells (iPSCs) were generated from a 10-year-old male patient's urine carrying the GLA c.1080_1082del Fabry disease mutation. The iPSCs were validated by confirming the pluripotent markers expression, trilineage differentiation capability, normal karyotype and targeted mutation. This resource enables further assessment of the pathophysiological development of Fabry disease and serves as a model to develop drugs for treating Fabry disease.\",\n",
      "  \"journal\": \"\",\n",
      "  \"year\": \"2025\"\n",
      "}\n"
     ]
    }
   ],
   "source": [
    "print(json.dumps(fabry_abstracts[23], indent=2)) #verification"
   ]
  },
  {
   "cell_type": "code",
   "execution_count": 13,
   "id": "9509400e-dc1d-40db-84d1-f4bc3c1503b7",
   "metadata": {},
   "outputs": [],
   "source": [
    "with open(\"C:\\\\AISSMS-IOIT-Practicals\\\\MLOps\\\\data\\\\fabry_disease.json\", \"w\", encoding=\"utf-8\") as f:\n",
    "    json.dump(fabry_abstracts, f, indent=2, ensure_ascii=False)"
   ]
  }
 ],
 "metadata": {
  "kernelspec": {
   "display_name": "Python [conda env:base] *",
   "language": "python",
   "name": "conda-base-py"
  },
  "language_info": {
   "codemirror_mode": {
    "name": "ipython",
    "version": 3
   },
   "file_extension": ".py",
   "mimetype": "text/x-python",
   "name": "python",
   "nbconvert_exporter": "python",
   "pygments_lexer": "ipython3",
   "version": "3.12.7"
  }
 },
 "nbformat": 4,
 "nbformat_minor": 5
}
